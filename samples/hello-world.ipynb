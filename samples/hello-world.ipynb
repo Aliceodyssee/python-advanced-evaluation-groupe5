{
 "cells": [
  {
   "cell_type": "markdown",
   "id": "a9541506",
   "metadata": {},
   "source": [
    "Hello world!\n",
    "============\n",
    "Print `Hello world!`:"
   ]
  },
  {
   "cell_type": "code",
   "execution_count": null,
   "id": "b777420a",
   "metadata": {},
   "outputs": [],
   "source": [
    "print(\"Hello world!\")"
   ]
  },
  {
   "cell_type": "markdown",
   "id": "a23ab5ac",
   "metadata": {},
   "source": [
    "Goodbye! 👋"
   ]
  }
 ],
 "metadata": {
  "language_info": {
   "name": "python"
  }
 },
 "nbformat": 4,
 "nbformat_minor": 5
}
