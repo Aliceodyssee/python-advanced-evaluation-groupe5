{
  "cells": [
    {
      "cell_type": "markdown",
      "id": "a9541506",
      "metadata": {},
      "source": [
        "Hello world!\n",
        "============\n",
        "Print `Hello world!`:"
      ]
    },
    {
      "cell_type": "markdown",
      "id": "b777420a",
      "metadata": {},
      "source": [
        "```python\n",
        "print(\"Hello world!\")\n",
        "```"
      ]
    },
    {
      "cell_type": "markdown",
      "id": "a23ab5ac",
      "metadata": {},
      "source": [
        "Goodbye! 👋"
      ]
    }
  ],
  "metadata": {
    "interpreter": {
      "hash": "871d1d0607158f5fc47a27770f50580bcf57bfa7b5b48081250c3d58c6b7ca99"
    },
    "kernelspec": {
      "display_name": "Python 3.9.7 64-bit ('python-advanced-eval': conda)",
      "language": "python",
      "name": "python3"
    },
    "language_info": {
      "name": "python",
      "version": "3.9.7"
    }
  },
  "nbformat": 4,
  "nbformat_minor": 5
}
